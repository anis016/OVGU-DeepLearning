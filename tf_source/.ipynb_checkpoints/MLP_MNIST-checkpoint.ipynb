{
 "cells": [
  {
   "cell_type": "code",
   "execution_count": 65,
   "metadata": {},
   "outputs": [],
   "source": [
    "import tensorflow as tf\n",
    "import os\n",
    "import glob\n",
    "import pandas as pd\n",
    "import numpy as np\n",
    "import matplotlib.pyplot as plt # For plotting\n",
    "from sklearn.preprocessing import OneHotEncoder\n",
    "from generate_batch import BatchGen\n",
    "tf.set_random_seed(42) # set a seed"
   ]
  },
  {
   "cell_type": "code",
   "execution_count": 2,
   "metadata": {},
   "outputs": [
    {
     "data": {
      "text/plain": [
       "'1.11.0'"
      ]
     },
     "execution_count": 2,
     "metadata": {},
     "output_type": "execute_result"
    }
   ],
   "source": [
    "tf.__version__"
   ]
  },
  {
   "cell_type": "code",
   "execution_count": 15,
   "metadata": {},
   "outputs": [],
   "source": [
    "def get_mnist_data():\n",
    "\n",
    "    dirname, _ = os.path.split(os.path.dirname(os.path.abspath(\"__file__\")))\n",
    "    data_dir = os.path.join(dirname, \"data\")\n",
    "    MNIST_dir = os.path.join(data_dir, \"MNIST\")\n",
    "\n",
    "    if os.path.exists(MNIST_dir):\n",
    "        all_files = glob.glob(MNIST_dir + \"/*.csv\")\n",
    "        train_path = all_files[0] if 'train' in all_files[0] else all_files[1]\n",
    "        test_path  = all_files[0] if 'test' in all_files[0] else all_files[1]\n",
    "\n",
    "        train = pd.read_csv(train_path, header=None)\n",
    "        X_train = train.iloc[:,1:].values/255.0\n",
    "        y_train = train.iloc[:,0].values\n",
    "\n",
    "        test = pd.read_csv(test_path, header=None)\n",
    "        X_test = test.iloc[:, 1:].values/255.0\n",
    "        y_test = test.iloc[:, 0].values\n",
    "\n",
    "        y_train = y_train.reshape(-1, 1)\n",
    "        y_test = y_test.reshape(-1, 1)\n",
    "\n",
    "        return X_train, y_train, X_test, y_test\n",
    "    else:\n",
    "        raise IOError(\"Path not found!\")"
   ]
  },
  {
   "cell_type": "code",
   "execution_count": 16,
   "metadata": {},
   "outputs": [],
   "source": [
    "def imshow(img):\n",
    "    plt.imshow(img.reshape(28, 28), cmap='gray')"
   ]
  },
  {
   "cell_type": "code",
   "execution_count": 34,
   "metadata": {},
   "outputs": [],
   "source": [
    "# get the normalized MNIST data\n",
    "X_train, y_train, X_test, y_test = get_mnist_data()"
   ]
  },
  {
   "cell_type": "code",
   "execution_count": 21,
   "metadata": {},
   "outputs": [
    {
     "name": "stdout",
     "output_type": "stream",
     "text": [
      "label:  [4]\n"
     ]
    },
    {
     "data": {
      "image/png": "[encoded data removed]",
      "text/plain": [
       "<Figure size 432x288 with 1 Axes>"
      ]
     },
     "metadata": {},
     "output_type": "display_data"
    }
   ],
   "source": [
    "idx = 2\n",
    "img = X_train[2]\n",
    "label = y_train[2]\n",
    "\n",
    "plt.imshow(img.reshape(28, 28), cmap='gray')\n",
    "print(\"label: \", label)"
   ]
  },
  {
   "cell_type": "code",
   "execution_count": 44,
   "metadata": {},
   "outputs": [],
   "source": [
    "# run this cell only once or else y_train will keep on changing\n",
    "onehot_encoder = OneHotEncoder(categorical_features = [0]) # [0] -> which axis to be one-hot encoded?\n",
    "y_train = onehot_encoder.fit_transform(y_train).toarray()\n",
    "y_test = onehot_encoder.fit_transform(y_test).toarray()"
   ]
  },
  {
   "cell_type": "code",
   "execution_count": 58,
   "metadata": {},
   "outputs": [],
   "source": [
    "IMG_SIZE   = 28\n",
    "IMG_PIXELS = IMG_SIZE * IMG_SIZE\n",
    "\n",
    "# network parameters\n",
    "n_inputs   = IMG_PIXELS # MNIST data input\n",
    "n_hidden_1 = 256 # number of features/neurons in the first layer\n",
    "n_hidden_2 = 256 # number of features/neurons in the second layer\n",
    "num_classes = 10 # number of outputs"
   ]
  },
  {
   "cell_type": "code",
   "execution_count": 59,
   "metadata": {},
   "outputs": [],
   "source": [
    "# placeholder graph for the input\n",
    "X = tf.placeholder(dtype=tf.float32, shape=(None, n_inputs), name='X')\n",
    "y = tf.placeholder(dtype=tf.float32, shape=(None, num_classes), name='y')"
   ]
  },
  {
   "cell_type": "code",
   "execution_count": 60,
   "metadata": {},
   "outputs": [],
   "source": [
    "# define the model\n",
    "def multilayer_perceptron(x, weights, biases):\n",
    "    # 1st hidden layer\n",
    "    layer_1 = tf.add(tf.matmul(x, weights['h1']), biases['b1'])\n",
    "    layer_1 = tf.nn.relu(layer_1)\n",
    "\n",
    "    # 2nd hidden layer\n",
    "    layer_2 = tf.add(tf.matmul(layer_1, weights['h2']), biases['b2'])\n",
    "    layer_2 = tf.nn.relu(layer_2)\n",
    "\n",
    "    # output layer\n",
    "    out_layer = tf.add(tf.matmul(layer_2, weights['out']), biases['out'])\n",
    "    return out_layer"
   ]
  },
  {
   "cell_type": "code",
   "execution_count": 61,
   "metadata": {},
   "outputs": [],
   "source": [
    "# store weights & biases\n",
    "weights = {\n",
    "    'h1': tf.Variable(tf.random_normal([n_inputs, n_hidden_1])),\n",
    "    'h2': tf.Variable(tf.random_normal([n_hidden_1, n_hidden_2])),\n",
    "    'out': tf.Variable(tf.random_normal([n_hidden_2, num_classes]))\n",
    "}\n",
    "\n",
    "biases = {\n",
    "    'b1': tf.Variable(tf.random_normal([n_hidden_1])),\n",
    "    'b2': tf.Variable(tf.random_normal([n_hidden_2])),\n",
    "    'out': tf.Variable(tf.random_normal([num_classes])),\n",
    "}"
   ]
  },
  {
   "cell_type": "code",
   "execution_count": 62,
   "metadata": {},
   "outputs": [],
   "source": [
    "learning_rate  = 0.01\n",
    "training_epoch = 10\n",
    "batch_size     = 128\n",
    "n_batches      = int(np.ceil(len(y_train) / batch_size))"
   ]
  },
  {
   "cell_type": "code",
   "execution_count": 63,
   "metadata": {},
   "outputs": [],
   "source": [
    "# construct the model\n",
    "y_pred = multilayer_perceptron(X, weights, biases)\n",
    "\n",
    "# define loss and optimizer\n",
    "cost = tf.reduce_mean(tf.nn.softmax_cross_entropy_with_logits_v2(logits=y_pred, labels=y))\n",
    "optimizer = tf.train.AdamOptimizer(learning_rate=learning_rate).minimize(cost)"
   ]
  },
  {
   "cell_type": "code",
   "execution_count": 66,
   "metadata": {},
   "outputs": [
    {
     "name": "stdout",
     "output_type": "stream",
     "text": [
      "Epoch: 0, cost: 48.5539\n",
      "Epoch: 1, cost: 8.9811\n",
      "Epoch: 2, cost: 4.7769\n",
      "Epoch: 3, cost: 3.0333\n",
      "Epoch: 4, cost: 2.4953\n",
      "Epoch: 5, cost: 2.0702\n",
      "Epoch: 6, cost: 2.1512\n",
      "Epoch: 7, cost: 1.7312\n",
      "Epoch: 8, cost: 1.7733\n",
      "Epoch: 9, cost: 1.3492\n",
      "\n",
      "Test Accuracy: 96.1400%\n"
     ]
    }
   ],
   "source": [
    "# initialize the variables and create a batch class\n",
    "init = tf.global_variables_initializer()\n",
    "dataset = BatchGen(X_train, y_train)\n",
    "with tf.Session() as session:\n",
    "#    session.graph.finalize() # this doesn't work :/\n",
    "    session.run(init)\n",
    "\n",
    "    # training cycle\n",
    "    for epoch in range(training_epoch):\n",
    "        avg_cost = 0\n",
    "        for batch_index in range(n_batches):\n",
    "            X_batch, y_batch = dataset.next_batch(batch_size, shuffle=True)\n",
    "            _, c = session.run([optimizer, cost], feed_dict={X: X_batch,\n",
    "                                                             y: y_batch})\n",
    "\n",
    "            # compute average loss\n",
    "            avg_cost += c / n_batches\n",
    "\n",
    "        # display logs per epoch step\n",
    "        print('Epoch: {0}, cost: {1:.4f}'.format(epoch, avg_cost))\n",
    "\n",
    "\n",
    "    # test model\n",
    "    correct_prediction = tf.equal(tf.argmax(y_pred, 1), tf.argmax(y, 1))\n",
    "\n",
    "    # calculate accuracy\n",
    "    accuracy = tf.reduce_mean(tf.cast(correct_prediction, tf.float32))\n",
    "    feed_dict_test = {X: X_test,\n",
    "                      y: y_test}\n",
    "\n",
    "    print(\"\\nTest Accuracy: {0:.4f}%\".format(accuracy.eval(feed_dict_test) * 100))"
   ]
  },
  {
   "cell_type": "code",
   "execution_count": null,
   "metadata": {},
   "outputs": [],
   "source": []
  },
  {
   "cell_type": "code",
   "execution_count": null,
   "metadata": {},
   "outputs": [],
   "source": []
  },
  {
   "cell_type": "code",
   "execution_count": null,
   "metadata": {},
   "outputs": [],
   "source": []
  }
 ],
 "metadata": {
  "kernelspec": {
   "display_name": "Dl-numpy",
   "language": "python",
   "name": "deepl_venv"
  },
  "language_info": {
   "codemirror_mode": {
    "name": "ipython",
    "version": 3
   },
   "file_extension": ".py",
   "mimetype": "text/x-python",
   "name": "python",
   "nbconvert_exporter": "python",
   "pygments_lexer": "ipython3",
   "version": "3.6.5"
  }
 },
 "nbformat": 4,
 "nbformat_minor": 2
}
